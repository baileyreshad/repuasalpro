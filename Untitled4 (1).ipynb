{
 "cells": [
  {
   "cell_type": "code",
   "execution_count": 4,
   "id": "religious-officer",
   "metadata": {},
   "outputs": [],
   "source": [
    "import pandas as pd\n",
    "import numpy as np\n",
    "from sklearn.feature_extraction.text import CountVectorizer\n",
    "from sklearn.metrics.pairwise import cosine_similarity\n"
   ]
  },
  {
   "cell_type": "code",
   "execution_count": 7,
   "id": "bright-philadelphia",
   "metadata": {},
   "outputs": [
    {
     "data": {
      "text/html": [
       "<div>\n",
       "<style scoped>\n",
       "    .dataframe tbody tr th:only-of-type {\n",
       "        vertical-align: middle;\n",
       "    }\n",
       "\n",
       "    .dataframe tbody tr th {\n",
       "        vertical-align: top;\n",
       "    }\n",
       "\n",
       "    .dataframe thead th {\n",
       "        text-align: right;\n",
       "    }\n",
       "</style>\n",
       "<table border=\"1\" class=\"dataframe\">\n",
       "  <thead>\n",
       "    <tr style=\"text-align: right;\">\n",
       "      <th></th>\n",
       "      <th>name</th>\n",
       "      <th>rating</th>\n",
       "      <th>genre</th>\n",
       "      <th>year</th>\n",
       "      <th>released</th>\n",
       "      <th>score</th>\n",
       "      <th>votes</th>\n",
       "      <th>director</th>\n",
       "      <th>writer</th>\n",
       "      <th>star</th>\n",
       "      <th>country</th>\n",
       "      <th>budget</th>\n",
       "      <th>gross</th>\n",
       "      <th>company</th>\n",
       "      <th>runtime</th>\n",
       "    </tr>\n",
       "  </thead>\n",
       "  <tbody>\n",
       "    <tr>\n",
       "      <th>0</th>\n",
       "      <td>The Shining</td>\n",
       "      <td>R</td>\n",
       "      <td>Drama</td>\n",
       "      <td>1980</td>\n",
       "      <td>June 13, 1980 (United States)</td>\n",
       "      <td>8.4</td>\n",
       "      <td>927000.0</td>\n",
       "      <td>Stanley Kubrick</td>\n",
       "      <td>Stephen King</td>\n",
       "      <td>Jack Nicholson</td>\n",
       "      <td>United Kingdom</td>\n",
       "      <td>19000000.0</td>\n",
       "      <td>46998772.0</td>\n",
       "      <td>Warner Bros.</td>\n",
       "      <td>146.0</td>\n",
       "    </tr>\n",
       "    <tr>\n",
       "      <th>1</th>\n",
       "      <td>The Blue Lagoon</td>\n",
       "      <td>R</td>\n",
       "      <td>Adventure</td>\n",
       "      <td>1980</td>\n",
       "      <td>July 2, 1980 (United States)</td>\n",
       "      <td>5.8</td>\n",
       "      <td>65000.0</td>\n",
       "      <td>Randal Kleiser</td>\n",
       "      <td>Henry De Vere Stacpoole</td>\n",
       "      <td>Brooke Shields</td>\n",
       "      <td>United States</td>\n",
       "      <td>4500000.0</td>\n",
       "      <td>58853106.0</td>\n",
       "      <td>Columbia Pictures</td>\n",
       "      <td>104.0</td>\n",
       "    </tr>\n",
       "    <tr>\n",
       "      <th>2</th>\n",
       "      <td>Star Wars: Episode V - The Empire Strikes Back</td>\n",
       "      <td>PG</td>\n",
       "      <td>Action</td>\n",
       "      <td>1980</td>\n",
       "      <td>June 20, 1980 (United States)</td>\n",
       "      <td>8.7</td>\n",
       "      <td>1200000.0</td>\n",
       "      <td>Irvin Kershner</td>\n",
       "      <td>Leigh Brackett</td>\n",
       "      <td>Mark Hamill</td>\n",
       "      <td>United States</td>\n",
       "      <td>18000000.0</td>\n",
       "      <td>538375067.0</td>\n",
       "      <td>Lucasfilm</td>\n",
       "      <td>124.0</td>\n",
       "    </tr>\n",
       "    <tr>\n",
       "      <th>3</th>\n",
       "      <td>Airplane!</td>\n",
       "      <td>PG</td>\n",
       "      <td>Comedy</td>\n",
       "      <td>1980</td>\n",
       "      <td>July 2, 1980 (United States)</td>\n",
       "      <td>7.7</td>\n",
       "      <td>221000.0</td>\n",
       "      <td>Jim Abrahams</td>\n",
       "      <td>Jim Abrahams</td>\n",
       "      <td>Robert Hays</td>\n",
       "      <td>United States</td>\n",
       "      <td>3500000.0</td>\n",
       "      <td>83453539.0</td>\n",
       "      <td>Paramount Pictures</td>\n",
       "      <td>88.0</td>\n",
       "    </tr>\n",
       "    <tr>\n",
       "      <th>4</th>\n",
       "      <td>Caddyshack</td>\n",
       "      <td>R</td>\n",
       "      <td>Comedy</td>\n",
       "      <td>1980</td>\n",
       "      <td>July 25, 1980 (United States)</td>\n",
       "      <td>7.3</td>\n",
       "      <td>108000.0</td>\n",
       "      <td>Harold Ramis</td>\n",
       "      <td>Brian Doyle-Murray</td>\n",
       "      <td>Chevy Chase</td>\n",
       "      <td>United States</td>\n",
       "      <td>6000000.0</td>\n",
       "      <td>39846344.0</td>\n",
       "      <td>Orion Pictures</td>\n",
       "      <td>98.0</td>\n",
       "    </tr>\n",
       "  </tbody>\n",
       "</table>\n",
       "</div>"
      ],
      "text/plain": [
       "                                             name rating      genre  year  \\\n",
       "0                                     The Shining      R      Drama  1980   \n",
       "1                                 The Blue Lagoon      R  Adventure  1980   \n",
       "2  Star Wars: Episode V - The Empire Strikes Back     PG     Action  1980   \n",
       "3                                       Airplane!     PG     Comedy  1980   \n",
       "4                                      Caddyshack      R     Comedy  1980   \n",
       "\n",
       "                        released  score      votes         director  \\\n",
       "0  June 13, 1980 (United States)    8.4   927000.0  Stanley Kubrick   \n",
       "1   July 2, 1980 (United States)    5.8    65000.0   Randal Kleiser   \n",
       "2  June 20, 1980 (United States)    8.7  1200000.0   Irvin Kershner   \n",
       "3   July 2, 1980 (United States)    7.7   221000.0     Jim Abrahams   \n",
       "4  July 25, 1980 (United States)    7.3   108000.0     Harold Ramis   \n",
       "\n",
       "                    writer            star         country      budget  \\\n",
       "0             Stephen King  Jack Nicholson  United Kingdom  19000000.0   \n",
       "1  Henry De Vere Stacpoole  Brooke Shields   United States   4500000.0   \n",
       "2           Leigh Brackett     Mark Hamill   United States  18000000.0   \n",
       "3             Jim Abrahams     Robert Hays   United States   3500000.0   \n",
       "4       Brian Doyle-Murray     Chevy Chase   United States   6000000.0   \n",
       "\n",
       "         gross             company  runtime  \n",
       "0   46998772.0        Warner Bros.    146.0  \n",
       "1   58853106.0   Columbia Pictures    104.0  \n",
       "2  538375067.0           Lucasfilm    124.0  \n",
       "3   83453539.0  Paramount Pictures     88.0  \n",
       "4   39846344.0      Orion Pictures     98.0  "
      ]
     },
     "execution_count": 7,
     "metadata": {},
     "output_type": "execute_result"
    }
   ],
   "source": [
    "df = pd.read_csv(\"movies.csv\")\n",
    "df.head()"
   ]
  },
  {
   "cell_type": "code",
   "execution_count": 11,
   "id": "heard-knife",
   "metadata": {},
   "outputs": [],
   "source": [
    "df['score'] = str(df['score'])"
   ]
  },
  {
   "cell_type": "code",
   "execution_count": 12,
   "id": "cooperative-growing",
   "metadata": {},
   "outputs": [],
   "source": [
    "# features = ['score','star','genre','director']"
   ]
  },
  {
   "cell_type": "code",
   "execution_count": 79,
   "id": "valued-library",
   "metadata": {},
   "outputs": [],
   "source": [
    "features = ['star','genre','director']"
   ]
  },
  {
   "cell_type": "code",
   "execution_count": 13,
   "id": "adapted-agreement",
   "metadata": {},
   "outputs": [],
   "source": [
    "# def combine_features(row):\n",
    "#     return row['score']+\" \"+row['star']+\" \"+row['genre']+\" \"+row['director']"
   ]
  },
  {
   "cell_type": "code",
   "execution_count": 80,
   "id": "north-medium",
   "metadata": {},
   "outputs": [],
   "source": [
    "def combine_features(row):\n",
    "    return row['star']+\" \"+row['genre']+\" \"+row['director']"
   ]
  },
  {
   "cell_type": "code",
   "execution_count": 81,
   "id": "friendly-malpractice",
   "metadata": {},
   "outputs": [],
   "source": [
    "for feature in features:\n",
    "    df[feature] = df[feature].fillna('')\n",
    "\n",
    "df[\"combined_features\"] = df.apply(combine_features,axis=1)"
   ]
  },
  {
   "cell_type": "code",
   "execution_count": 82,
   "id": "professional-fitness",
   "metadata": {},
   "outputs": [
    {
     "data": {
      "text/plain": [
       "'Jack Nicholson Drama Stanley Kubrick'"
      ]
     },
     "execution_count": 82,
     "metadata": {},
     "output_type": "execute_result"
    }
   ],
   "source": [
    "df.iloc[0].combined_features"
   ]
  },
  {
   "cell_type": "code",
   "execution_count": 83,
   "id": "sexual-conviction",
   "metadata": {},
   "outputs": [],
   "source": [
    "cv = CountVectorizer() \n",
    "count_matrix = cv.fit_transform(df[\"combined_features\"])"
   ]
  },
  {
   "cell_type": "code",
   "execution_count": 123,
   "id": "mental-table",
   "metadata": {},
   "outputs": [
    {
     "name": "stdout",
     "output_type": "stream",
     "text": [
      "  (0, 1530)\t1\n",
      "  (0, 2675)\t1\n",
      "  (0, 3148)\t1\n",
      "  (0, 4088)\t1\n",
      "  (0, 5296)\t1\n",
      "  (1, 54)\t1\n",
      "  (1, 779)\t1\n",
      "  (1, 3075)\t1\n",
      "  (1, 4575)\t1\n",
      "  (1, 5111)\t1\n",
      "  (2, 33)\t1\n",
      "  (2, 2309)\t1\n",
      "  (2, 2644)\t1\n",
      "  (2, 3010)\t1\n",
      "  (2, 3608)\t1\n",
      "  (3, 19)\t1\n",
      "  (3, 1114)\t1\n",
      "  (3, 2388)\t1\n",
      "  (3, 2786)\t1\n",
      "  (3, 4711)\t1\n",
      "  (4, 981)\t1\n",
      "  (4, 1005)\t1\n",
      "  (4, 1114)\t1\n",
      "  (4, 2346)\t1\n",
      "  (4, 4562)\t1\n",
      "  :\t:\n",
      "  (7663, 671)\t1\n",
      "  (7663, 1530)\t1\n",
      "  (7663, 1602)\t1\n",
      "  (7663, 2839)\t1\n",
      "  (7663, 5064)\t1\n",
      "  (7664, 1114)\t1\n",
      "  (7664, 1562)\t1\n",
      "  (7664, 1584)\t1\n",
      "  (7664, 3827)\t1\n",
      "  (7664, 4899)\t1\n",
      "  (7665, 1530)\t1\n",
      "  (7665, 3243)\t1\n",
      "  (7665, 4125)\t1\n",
      "  (7665, 4126)\t1\n",
      "  (7665, 4214)\t1\n",
      "  (7666, 1038)\t1\n",
      "  (7666, 1530)\t1\n",
      "  (7666, 2705)\t1\n",
      "  (7666, 4576)\t1\n",
      "  (7666, 4791)\t1\n",
      "  (7667, 2541)\t1\n",
      "  (7667, 3484)\t1\n",
      "  (7667, 3953)\t1\n",
      "  (7667, 4354)\t1\n",
      "  (7667, 5187)\t1\n"
     ]
    }
   ],
   "source": [
    "print(count_matrix)"
   ]
  },
  {
   "cell_type": "code",
   "execution_count": 124,
   "id": "aware-conversation",
   "metadata": {},
   "outputs": [],
   "source": [
    "cosine_sim = cosine_similarity(count_matrix)"
   ]
  },
  {
   "cell_type": "code",
   "execution_count": 125,
   "id": "following-emerald",
   "metadata": {},
   "outputs": [
    {
     "name": "stdout",
     "output_type": "stream",
     "text": [
      "[[1.  0.  0.  ... 0.2 0.2 0. ]\n",
      " [0.  1.  0.  ... 0.  0.  0. ]\n",
      " [0.  0.  1.  ... 0.  0.  0. ]\n",
      " ...\n",
      " [0.2 0.  0.  ... 1.  0.2 0. ]\n",
      " [0.2 0.  0.  ... 0.2 1.  0. ]\n",
      " [0.  0.  0.  ... 0.  0.  1. ]]\n"
     ]
    }
   ],
   "source": [
    "print(cosine_sim)"
   ]
  },
  {
   "cell_type": "code",
   "execution_count": 28,
   "id": "north-horizontal",
   "metadata": {},
   "outputs": [],
   "source": [
    "# def get_title_from_index(index):\n",
    "#     return df[df.index == index][\"name\"].values[0]\n",
    "# def get_index_from_title(name):\n",
    "#     return df[df.name == name][\"name\"].values[0]"
   ]
  },
  {
   "cell_type": "code",
   "execution_count": 126,
   "id": "indirect-geography",
   "metadata": {},
   "outputs": [],
   "source": [
    "def get_index_from_title(moviename):\n",
    "    return df[df['name']==moviename].index.values"
   ]
  },
  {
   "cell_type": "code",
   "execution_count": 86,
   "id": "driving-crisis",
   "metadata": {},
   "outputs": [
    {
     "name": "stdout",
     "output_type": "stream",
     "text": [
      "[0]\n"
     ]
    }
   ],
   "source": [
    "print(get_index_from_title(\"The Shining\"))"
   ]
  },
  {
   "cell_type": "code",
   "execution_count": 127,
   "id": "later-right",
   "metadata": {},
   "outputs": [],
   "source": [
    "def get_title_from_index(index):\n",
    "    return df.iloc[index].get('name')\n"
   ]
  },
  {
   "cell_type": "code",
   "execution_count": 128,
   "id": "diagnostic-interstate",
   "metadata": {},
   "outputs": [],
   "source": [
    "movie_user_likes = \"Ordinary People\"\n",
    "movie_index = get_index_from_title(movie_user_likes)\n",
    "similar_movies = list(enumerate(cosine_sim[movie_index]))"
   ]
  },
  {
   "cell_type": "code",
   "execution_count": 129,
   "id": "bored-shopping",
   "metadata": {},
   "outputs": [
    {
     "name": "stdout",
     "output_type": "stream",
     "text": [
      "[13]\n"
     ]
    }
   ],
   "source": [
    "print(movie_index)"
   ]
  },
  {
   "cell_type": "code",
   "execution_count": 130,
   "id": "humanitarian-young",
   "metadata": {},
   "outputs": [
    {
     "name": "stdout",
     "output_type": "stream",
     "text": [
      "(0, array([0.2, 0. , 0. , ..., 0.2, 0.2, 0. ]))\n"
     ]
    }
   ],
   "source": [
    "# print(list(cosine_sim[movie_index]))\n",
    "\n",
    "for ele in enumerate(cosine_sim[movie_index]):\n",
    "    print (ele)"
   ]
  },
  {
   "cell_type": "code",
   "execution_count": 95,
   "id": "arabic-birmingham",
   "metadata": {},
   "outputs": [
    {
     "name": "stdout",
     "output_type": "stream",
     "text": [
      "[]\n"
     ]
    }
   ],
   "source": [
    "# sorted_similar_movies = sorted(similar_movies,key=lambda x:x[1],reverse=True)[1:]\n",
    "# print(sorted_similar_movies)"
   ]
  },
  {
   "cell_type": "code",
   "execution_count": 115,
   "id": "illegal-engine",
   "metadata": {},
   "outputs": [],
   "source": [
    "sorted_similar_movies = sorted(similar_movies,key=lambda x:x[1],reverse=False)\n",
    "# print(sorted_similar_movies)"
   ]
  },
  {
   "cell_type": "code",
   "execution_count": 116,
   "id": "greater-title",
   "metadata": {},
   "outputs": [
    {
     "name": "stdout",
     "output_type": "stream",
     "text": [
      "The Shining\n"
     ]
    }
   ],
   "source": [
    "i=0\n",
    "for movies in sorted_similar_movies:\n",
    "    print(get_title_from_index(movies[0]))\n",
    "    i=i+1\n",
    "    if i>5:\n",
    "        break"
   ]
  },
  {
   "cell_type": "code",
   "execution_count": 101,
   "id": "binding-logging",
   "metadata": {},
   "outputs": [
    {
     "name": "stdout",
     "output_type": "stream",
     "text": [
      "Top 5 similar movies to Ordinary People are:\n",
      "\n",
      "The Shining\n"
     ]
    }
   ],
   "source": [
    "i=0\n",
    "print(\"Top 5 similar movies to \"+movie_user_likes+\" are:\\n\")\n",
    "for element in sorted_similar_movies:\n",
    "    print(get_title_from_index(element[0]))\n",
    "    i=i+1\n",
    "    if i>5:\n",
    "        break"
   ]
  }
 ],
 "metadata": {
  "kernelspec": {
   "display_name": "Python 3",
   "language": "python",
   "name": "python3"
  },
  "language_info": {
   "codemirror_mode": {
    "name": "ipython",
    "version": 3
   },
   "file_extension": ".py",
   "mimetype": "text/x-python",
   "name": "python",
   "nbconvert_exporter": "python",
   "pygments_lexer": "ipython3",
   "version": "3.9.2"
  }
 },
 "nbformat": 4,
 "nbformat_minor": 5
}
